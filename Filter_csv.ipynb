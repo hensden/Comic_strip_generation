{
 "cells": [
  {
   "cell_type": "code",
   "execution_count": 1,
   "metadata": {},
   "outputs": [],
   "source": [
    "import numpy as np\n",
    "import pandas as pd\n",
    "import os"
   ]
  },
  {
   "cell_type": "code",
   "execution_count": 8,
   "metadata": {},
   "outputs": [
    {
     "name": "stdout",
     "output_type": "stream",
     "text": [
      "/home/veena/Desktop/g_only\n"
     ]
    }
   ],
   "source": [
    "cwd = os.getcwd()\n",
    "folder_list = os.listdir(cwd)\n",
    "\n",
    "print(cwd)"
   ]
  },
  {
   "cell_type": "code",
   "execution_count": 9,
   "metadata": {},
   "outputs": [
    {
     "name": "stdout",
     "output_type": "stream",
     "text": [
      "['264.jpeg', '146.jpeg', '57.jpeg', '96.jpeg', '30.jpeg', '144.jpeg', '90.jpeg', '92.jpeg', '59.jpeg', '95.jpeg', '212.jpeg', '218.jpeg', '186.jpeg', '213.jpeg', '80.jpeg', '220.jpeg', '292.jpeg', '354.jpeg', '15.jpeg', '130.jpeg', '184.jpeg', '166.jpeg', '141.jpeg', '.DS_Store', '279.jpeg', '132.jpeg', '81.jpeg', '269.jpeg', '355.jpeg', '321.jpeg', '227.jpeg', '275.jpeg', '237.jpeg', '185.jpeg', '223.jpeg', '251.jpeg', '206.jpeg', '169.jpeg', '232.jpeg', '341.jpeg', '16.jpeg', '127.jpeg', '274.jpeg', '234.jpeg', '339.jpeg', '340.jpeg', '267.jpeg', '188.jpeg']\n"
     ]
    }
   ],
   "source": [
    "textfile_path = str(1984) + '.csv'\n",
    "df = pd.read_csv(textfile_path, sep=\",\", header=None, index_col=0)\n",
    "df.head()\n",
    "\n",
    "path_img = os.path.join(cwd, str(1984))\n",
    "all_img = os.listdir(path_img)\n",
    "print(all_img)\n"
   ]
  },
  {
   "cell_type": "code",
   "execution_count": 15,
   "metadata": {},
   "outputs": [],
   "source": [
    "list_keep = []\n",
    "\n",
    "for img in all_img:\n",
    "    if img.endswith('.jpeg'):\n",
    "        list_keep.append(int(img.split('.')[0]))\n"
   ]
  },
  {
   "cell_type": "code",
   "execution_count": 19,
   "metadata": {},
   "outputs": [
    {
     "name": "stdout",
     "output_type": "stream",
     "text": [
      "1    https://static.garfield.dale.ro/1984/ga840921.gif\n",
      "2    For once in my life, a diet worked. - I'm goin...\n",
      "Name: 264, dtype: object\n",
      "(313, 2)\n",
      "(47, 2)\n"
     ]
    }
   ],
   "source": [
    "df_keep = df.loc[list_keep, :]\n",
    "\n",
    "print(df_keep.iloc[0])\n",
    "print(df.shape)\n",
    "print(df_keep.shape)\n",
    "\n",
    "df_keep.sort_index(inplace = True)\n",
    "df_keep.to_csv(textfile_path, header = False)"
   ]
  },
  {
   "cell_type": "code",
   "execution_count": 24,
   "metadata": {},
   "outputs": [
    {
     "name": "stdout",
     "output_type": "stream",
     "text": [
      "Doing year 1984 ...\n",
      "Doing year 1985 ...\n",
      "Doing year 1986 ...\n",
      "Doing year 1987 ...\n",
      "Doing year 1988 ...\n",
      "Doing year 1989 ...\n",
      "Doing year 1990 ...\n",
      "Doing year 1991 ...\n",
      "Doing year 1992 ...\n",
      "Doing year 1993 ...\n",
      "Doing year 1994 ...\n",
      "Doing year 1995 ...\n",
      "Doing year 1996 ...\n",
      "Doing year 1997 ...\n",
      "Doing year 1998 ...\n",
      "Doing year 1999 ...\n",
      "Doing year 2000 ...\n",
      "Doing year 2001 ...\n",
      "Doing year 2002 ...\n",
      "Doing year 2003 ...\n",
      "Doing year 2004 ...\n",
      "Doing year 2005 ...\n",
      "Doing year 2006 ...\n",
      "Doing year 2007 ...\n",
      "Doing year 2008 ...\n",
      "Doing year 2009 ...\n",
      "Doing year 2010 ...\n",
      "Doing year 2011 ...\n",
      "Doing year 2012 ...\n",
      "Doing year 2013 ...\n",
      "Doing year 2014 ...\n",
      "Doing year 2015 ...\n",
      "Doing year 2016 ...\n",
      "Doing year 2017 ...\n",
      "Doing year 2018 ...\n",
      "Doing year 2019 ...\n"
     ]
    }
   ],
   "source": [
    "for i in range(1984, 2020):\n",
    "    \n",
    "    print(\"Doing year\", i, \"...\")\n",
    "    textfile_path = str(i) + '.csv'\n",
    "    df = pd.read_csv(textfile_path, sep=\",\", header=None, index_col=0)\n",
    "    \n",
    "    path_img = os.path.join(cwd, str(i))\n",
    "    all_img = os.listdir(path_img)\n",
    "\n",
    "    list_keep = []\n",
    "\n",
    "    for img in all_img:\n",
    "        if img.endswith('.jpeg'):\n",
    "            list_keep.append(int(img.split('.')[0]))\n",
    "\n",
    "    df_keep = df.loc[list_keep, :]\n",
    "\n",
    "    df_keep.sort_index(inplace = True)\n",
    "    df_keep.to_csv(textfile_path, header = False)"
   ]
  },
  {
   "cell_type": "code",
   "execution_count": null,
   "metadata": {},
   "outputs": [],
   "source": []
  },
  {
   "cell_type": "code",
   "execution_count": null,
   "metadata": {},
   "outputs": [],
   "source": []
  },
  {
   "cell_type": "code",
   "execution_count": null,
   "metadata": {},
   "outputs": [],
   "source": [
    "\n"
   ]
  },
  {
   "cell_type": "code",
   "execution_count": null,
   "metadata": {},
   "outputs": [],
   "source": []
  },
  {
   "cell_type": "code",
   "execution_count": null,
   "metadata": {},
   "outputs": [],
   "source": [
    "\n",
    "    "
   ]
  },
  {
   "cell_type": "code",
   "execution_count": null,
   "metadata": {},
   "outputs": [],
   "source": []
  },
  {
   "cell_type": "code",
   "execution_count": null,
   "metadata": {},
   "outputs": [],
   "source": []
  }
 ],
 "metadata": {
  "kernelspec": {
   "display_name": "Python 3",
   "language": "python",
   "name": "python3"
  },
  "language_info": {
   "codemirror_mode": {
    "name": "ipython",
    "version": 3
   },
   "file_extension": ".py",
   "mimetype": "text/x-python",
   "name": "python",
   "nbconvert_exporter": "python",
   "pygments_lexer": "ipython3",
   "version": "3.7.3"
  }
 },
 "nbformat": 4,
 "nbformat_minor": 2
}
