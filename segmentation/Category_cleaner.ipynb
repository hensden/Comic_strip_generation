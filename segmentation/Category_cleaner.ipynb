{
 "cells": [
  {
   "cell_type": "markdown",
   "metadata": {},
   "source": [
    "#### Imports\n"
   ]
  },
  {
   "cell_type": "code",
   "execution_count": 1,
   "metadata": {},
   "outputs": [],
   "source": [
    "import os\n",
    "import time\n",
    "import imageio\n",
    "import scipy.misc\n",
    "import numpy as np\n",
    "from tqdm import tqdm\n",
    "from PIL import Image\n",
    "import matplotlib.cm as cm\n",
    "from matplotlib import pyplot as plt\n"
   ]
  },
  {
   "cell_type": "code",
   "execution_count": 2,
   "metadata": {},
   "outputs": [],
   "source": [
    "def hexencode(rgb):\n",
    "    r=rgb[0]\n",
    "    g=rgb[1]\n",
    "    b=rgb[2]\n",
    "    return '#%02x%02x%02x' % (r,g,b)\n"
   ]
  },
  {
   "cell_type": "markdown",
   "metadata": {},
   "source": [
    "#### Converting to Binary Mask"
   ]
  },
  {
   "cell_type": "code",
   "execution_count": 3,
   "metadata": {},
   "outputs": [
    {
     "name": "stderr",
     "output_type": "stream",
     "text": [
      "100%|██████████| 403/403 [01:03<00:00,  6.35it/s]\n",
      "100%|██████████| 403/403 [01:21<00:00,  4.94it/s]\n",
      "100%|██████████| 403/403 [01:05<00:00,  6.17it/s]\n"
     ]
    }
   ],
   "source": [
    "og_path = 'data/imgs/'\n",
    "s_path = 'data/masks/'\n",
    "\n",
    "info = [['data/g_mask/',250, 170, 30],\n",
    "        ['data/c_mask/',220, 20, 60],\n",
    "        ['data/s_mask/',250, 250, 250]]\n",
    "for ep in range(3):\n",
    "    t_path, R, G, B = info[ep]\n",
    "    dire = os.listdir(s_path)\n",
    "    for i in tqdm(range(len(dire))):\n",
    "        image = dire[i]\n",
    "        try:\n",
    "            im = Image.open(s_path + image)\n",
    "        except:\n",
    "            continue\n",
    "        w, h = im.size\n",
    "        im = im.crop((20, 20, w-20, h-20))\n",
    "        im = im.resize((300, 280), resample=Image.NEAREST)\n",
    "        w, h = im.size\n",
    "        colors = im.getcolors(w*h)\n",
    "        top7 = sorted(colors)[::-1][:7]\n",
    "        pix = np.array(im)\n",
    "        # print(h,w,pix.shape)\n",
    "        # print(top7)\n",
    "        mask = np.zeros(pix.shape[:2])\n",
    "        for j in range(pix.shape[0]):\n",
    "            for k in range(pix.shape[1]):\n",
    "                if pix[j,k,0] == R and pix[j,k,1] == G and pix[j,k,2] == B:\n",
    "                    mask[j,k] = 1\n",
    "                else:\n",
    "                    mask[j,k] = 0\n",
    "\n",
    "        #plt.imshow(mask)\n",
    "        #plt.show()\n",
    "        plt.imsave(t_path + image, mask, cmap=cm.gray)\n",
    "\n",
    "\n",
    "\n",
    "        #     for idx, c in enumerate(colors):\n",
    "        #         plt.bar(idx, c[0], color=hexencode(c[1]))\n",
    "        # orange - >200, >140 <180, <40 \n",
    "        # np.resize(im, tg_size)\n",
    "    \n",
    "        \n",
    "\n",
    "    \n",
    "    "
   ]
  },
  {
   "cell_type": "code",
   "execution_count": 4,
   "metadata": {},
   "outputs": [
    {
     "data": {
      "text/plain": [
       "'/home/hensden/usc/fall19/deeplearning/project/CSCI566-Project/segmentation'"
      ]
     },
     "execution_count": 4,
     "metadata": {},
     "output_type": "execute_result"
    }
   ],
   "source": [
    "pwd"
   ]
  },
  {
   "cell_type": "code",
   "execution_count": 5,
   "metadata": {},
   "outputs": [],
   "source": [
    "# Resize OG images and color mask to 280x300, crop 20 and \n",
    "dire = [og_path, s_path]\n",
    "f = 0\n",
    "for dir in dire:\n",
    "    for image in os.listdir(dir):\n",
    "        try:\n",
    "            im = Image.open(dir + image)\n",
    "        except:\n",
    "            continue\n",
    "        w, h = im.size\n",
    "        im = im.crop((20, 20, w-20, h-20))\n",
    "        if f==1:\n",
    "            im = im.resize((300, 280), resample=Image.NEAREST)\n",
    "        else:\n",
    "            im = im.resize((300, 280))\n",
    "        im.save(dir+image)\n",
    "    f = 1"
   ]
  },
  {
   "cell_type": "code",
   "execution_count": null,
   "metadata": {},
   "outputs": [],
   "source": []
  }
 ],
 "metadata": {
  "kernelspec": {
   "display_name": "Python 3",
   "language": "python",
   "name": "python3"
  },
  "language_info": {
   "codemirror_mode": {
    "name": "ipython",
    "version": 3
   },
   "file_extension": ".py",
   "mimetype": "text/x-python",
   "name": "python",
   "nbconvert_exporter": "python",
   "pygments_lexer": "ipython3",
   "version": "3.6.8"
  }
 },
 "nbformat": 4,
 "nbformat_minor": 2
}
