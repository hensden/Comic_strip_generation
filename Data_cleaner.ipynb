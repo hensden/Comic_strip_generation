{
 "cells": [
  {
   "cell_type": "code",
   "execution_count": 1,
   "metadata": {},
   "outputs": [],
   "source": [
    "from PIL import Image\n",
    "import numpy as np\n",
    "from matplotlib.pyplot import imshow\n",
    "import imageio\n",
    "import cv2\n",
    "import os\n",
    "from os import path"
   ]
  },
  {
   "cell_type": "code",
   "execution_count": 2,
   "metadata": {},
   "outputs": [],
   "source": [
    "path=\"./garfield_3paneldata/\"\n",
    "path_to_save=\"./garfield_data_test/\""
   ]
  },
  {
   "cell_type": "code",
   "execution_count": 3,
   "metadata": {},
   "outputs": [],
   "source": [
    "if not os.path.exists(path_to_save):\n",
    "    os.mkdir(path_to_save)\n",
    "for i in range(1991,2020,1):\n",
    "    if not os.path.exists(path_to_save+str(i)):\n",
    "        os.mkdir(path_to_save+str(i))\n",
    "    p1=path+str(i)+\"/\"\n",
    "    p2=path_to_save+str(i)+'/'\n",
    "    for j in range(367):\n",
    "        if os.path.exists(p1+str(j)+\".gif\"):\n",
    "            gif = imageio.mimread(p1+str(j)+\".gif\")\n",
    "            img = cv2.cvtColor(gif[0], cv2.COLOR_RGB2BGR)\n",
    "            cv2.imwrite(p2+str(j)+\".jpeg\",img)"
   ]
  },
  {
   "cell_type": "code",
   "execution_count": 5,
   "metadata": {},
   "outputs": [],
   "source": [
    "p=\"./garfield_data_single/\"\n",
    "if not os.path.exists(p):\n",
    "    os.mkdir(p)\n",
    "for i in range(1991,2020,1):\n",
    "    if not os.path.exists(p+str(i)):\n",
    "        os.mkdir(p+str(i))\n",
    "    p1=path_to_save+str(i)+\"/\"\n",
    "    p2=p+str(i)+'/'\n",
    "    dim = (256,256)\n",
    "    for j in range(367):\n",
    "        if os.path.exists(p1+str(j)+\".jpeg\"):\n",
    "            img = cv2.imread(p1+str(j)+\".jpeg\")\n",
    "            x=img.shape[1]\n",
    "            if img.shape[0]<500:\n",
    "                crop_img1 = cv2.resize(img[:, :int(x/3)], dim)\n",
    "                crop_img2 = cv2.resize(img[:, int(x/3):int(2*x/3)], dim)\n",
    "                crop_img3 = cv2.resize(img[:, int(2*x/3):], dim)\n",
    "                cv2.imwrite(p2+str(j)+\"_1.jpeg\",crop_img1)\n",
    "                cv2.imwrite(p2+str(j)+\"_2.jpeg\",crop_img2)\n",
    "                cv2.imwrite(p2+str(j)+\"_3.jpeg\",crop_img3)\n",
    "# cv2.waitKey(0)"
   ]
  },
  {
   "cell_type": "code",
   "execution_count": 8,
   "metadata": {},
   "outputs": [],
   "source": [
    "p=\"./garfield_data_2_1/\"\n",
    "if not os.path.exists(p):\n",
    "    os.mkdir(p)\n",
    "for i in range(1991,2020,1):\n",
    "    if not os.path.exists(p+str(i)):\n",
    "        os.mkdir(p+str(i))\n",
    "    p1=path_to_save+str(i)+\"/\"\n",
    "    p2=p+str(i)+'/'\n",
    "    dim = (512,256)\n",
    "    for j in range(367):\n",
    "        if os.path.exists(p1+str(j)+\".jpeg\"):\n",
    "            img = cv2.imread(p1+str(j)+\".jpeg\")\n",
    "            x=img.shape[1]\n",
    "            if img.shape[0]<500:\n",
    "#                 crop_img1 = cv2.resize(img[:, :int(x/3)], dim)\n",
    "                crop_img2 = cv2.resize(img[:, :int(2*x/3)], dim)\n",
    "                crop_img3 = cv2.resize(img[:, int(2*x/3):], dim)\n",
    "#                 cv2.imwrite(p2+str(j)+\"_1.jpeg\",crop_img1)\n",
    "                cv2.imwrite(p2+str(j)+\"_1.jpeg\",crop_img2)\n",
    "                cv2.imwrite(p2+str(j)+\"_2.jpeg\",crop_img3)"
   ]
  },
  {
   "cell_type": "code",
   "execution_count": null,
   "metadata": {},
   "outputs": [],
   "source": []
  }
 ],
 "metadata": {
  "kernelspec": {
   "display_name": "Python 3",
   "language": "python",
   "name": "python3"
  },
  "language_info": {
   "codemirror_mode": {
    "name": "ipython",
    "version": 3
   },
   "file_extension": ".py",
   "mimetype": "text/x-python",
   "name": "python",
   "nbconvert_exporter": "python",
   "pygments_lexer": "ipython3",
   "version": "3.7.3"
  }
 },
 "nbformat": 4,
 "nbformat_minor": 2
}
